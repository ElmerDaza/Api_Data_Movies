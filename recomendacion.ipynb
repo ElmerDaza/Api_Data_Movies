{
 "cells": [
  {
   "cell_type": "markdown",
   "metadata": {},
   "source": [
    "# Modelo de recomendacion de peliculas"
   ]
  },
  {
   "cell_type": "code",
   "execution_count": null,
   "metadata": {},
   "outputs": [],
   "source": [
    "# modulos a utilizar\n",
    "import tensorflow as tf, numpy as np, matplotlib.pyplot as plt\n",
    "import pandas as pd, glob,pickle"
   ]
  },
  {
   "cell_type": "markdown",
   "metadata": {},
   "source": [
    "Cargar datos"
   ]
  },
  {
   "cell_type": "code",
   "execution_count": null,
   "metadata": {},
   "outputs": [],
   "source": [
    "data_= pd.concat(\n",
    "    [pd.read_csv(f) for f in glob.glob('/content/ratings/*.csv')], \n",
    "    ignore_index=True)"
   ]
  },
  {
   "cell_type": "markdown",
   "metadata": {},
   "source": [
    "Entrenar el modelo"
   ]
  },
  {
   "cell_type": "code",
   "execution_count": null,
   "metadata": {},
   "outputs": [],
   "source": [
    "#se seleccionan columnas a utilizar\n",
    "ratings_df = data_[['userId','rating','movieId']]\n",
    "#eliminar valores nulos\n",
    "ratings_df =ratings_df.dropna()\n",
    "ratings_df['movieId'] = ratings_df['movieId'].astype(str)\n",
    "#se escojen 5 millones de registros para hacer el entrenamiento\n",
    "ratings_df=ratings_df[0:5000000]\n",
    "#se remplaza las letras que identifican a las plataformas {a:1,d:2,h:3,n:4} ademas s se remplaza por el numero 9\n",
    "ratings_df['movieId'] = ratings_df['movieId'].apply(\n",
    "    lambda x: '19' + x[2:] if x[0]=='a' else '29' + x[2:] if x[0]=='d' else '39' + x[2:] if x[0]=='h' else '49' + x[2:] if x[0]=='n' else x)\n",
    "#cambiar tipos de datos\n",
    "ratings_df['movieId'] = ratings_df['movieId'].astype('float64')\n",
    "ratings_df['userId'] = ratings_df['userId'].astype('float64').fillna(0)\n",
    "ratings_df['rating'] = ratings_df['rating'].astype('float64').fillna(0)\n",
    "ratings_df=ratings_df.fillna(0)\n",
    "\n",
    "#dividir por columnas\n",
    "userid = ratings_df['userId']\n",
    "movieid = ratings_df['movieId']\n",
    "score = ratings_df['rating'] \n",
    "# crear arreglos\n",
    "userid = userid.to_numpy()\n",
    "movieid = movieid.to_numpy()\n",
    "score = score.to_numpy()\n",
    "#crear arreglo bidimencional\n",
    "ab = np.stack((userid, movieid), axis=1)\n",
    "\n",
    "#red neuronal con 10 neuronas y 6 capas y dos parametros de entrada\n",
    "capa1 = tf.keras.layers.Dense(units=10, input_shape=[2])\n",
    "capa2 = tf.keras.layers.Dense(units=10)\n",
    "capa3= tf.keras.layers.Dense(units=10)\n",
    "capa4 = tf.keras.layers.Dense(units=10)\n",
    "capa5 = tf.keras.layers.Dense(units=10)\n",
    "capa6 = tf.keras.layers.Dense(units=10)\n",
    "salida = tf.keras.layers.Dense(units=1)\n",
    "#crear modelo Squential\n",
    "modelo = tf.keras.Sequential([capa1,capa2,capa3,capa4,capa5,capa6,salida])\n",
    "#compilar modelo\n",
    "modelo.compile(optimizer=tf.keras.optimizers.Adam(0.002),\n",
    "               loss='mean_squared_error')\n",
    "#entrenamiento del modelo\n",
    "historial = modelo.fit(ab,score,epochs=15,verbose=False)\n"
   ]
  },
  {
   "cell_type": "markdown",
   "metadata": {},
   "source": [
    "Visualizar el progreso de la red"
   ]
  },
  {
   "cell_type": "code",
   "execution_count": null,
   "metadata": {},
   "outputs": [],
   "source": [
    "plt.xlabel('epoca')\n",
    "plt.ylabel('magnitud de perdida')\n",
    "plt.plot(historial.history['loss'])"
   ]
  },
  {
   "cell_type": "markdown",
   "metadata": {},
   "source": [
    "hacer una prediccion"
   ]
  },
  {
   "cell_type": "code",
   "execution_count": null,
   "metadata": {},
   "outputs": [],
   "source": [
    "arreglo=np.array([120])\n",
    "arr =np.array([493205])\n",
    "predic = np.stack((arreglo,arr),axis=1)\n",
    "resultado=modelo.predict([predic])\n",
    "print(predic[0],resultado)"
   ]
  },
  {
   "cell_type": "markdown",
   "metadata": {},
   "source": [
    "Exportar el modelo"
   ]
  },
  {
   "cell_type": "code",
   "execution_count": null,
   "metadata": {},
   "outputs": [],
   "source": [
    "with open('modelo_recomendacion.pkl', 'wb') as archivo:\n",
    "    pickle.dump(modelo, archivo)"
   ]
  },
  {
   "cell_type": "code",
   "execution_count": null,
   "metadata": {},
   "outputs": [],
   "source": [
    "# cargar modelo\n",
    "with open('modelo_recomendacion.pkl', 'rb') as archivo:\n",
    "    modelo_cargado = pickle.load(archivo)\n",
    "resultado =modelo_cargado.predict([predic])\n",
    "print(predic[0],resultado)"
   ]
  }
 ],
 "metadata": {
  "language_info": {
   "name": "python"
  },
  "orig_nbformat": 4
 },
 "nbformat": 4,
 "nbformat_minor": 2
}
